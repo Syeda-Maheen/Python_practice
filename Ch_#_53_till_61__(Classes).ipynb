{
 "cells": [
  {
   "cell_type": "markdown",
   "metadata": {},
   "source": [
    "# ClASSES"
   ]
  },
  {
   "cell_type": "markdown",
   "metadata": {},
   "source": [
    "how to define class"
   ]
  },
  {
   "cell_type": "code",
   "execution_count": null,
   "metadata": {},
   "outputs": [],
   "source": [
    "class patient():"
   ]
  },
  {
   "cell_type": "markdown",
   "metadata": {},
   "source": [
    "### code 1"
   ]
  },
  {
   "cell_type": "code",
   "execution_count": null,
   "metadata": {},
   "outputs": [],
   "source": [
    "class mobile ():\n",
    "    # attributions >>>> variables\n",
    "    def __init__ (self,brand,color,memory,ram,price):\n",
    "        self.Mobilebrand = brand\n",
    "        self.Mobilecolor = color\n",
    "        self.Mobilememory = memory\n",
    "        self.Mobileram = ram\n",
    "        self.Mobileprice = price\n",
    "    # Behaviours >>>>function\n",
    "    def MakeCall(self):\n",
    "        print(\"Mobile is making a call\")\n",
    "    def ReceiveCall(self):\n",
    "        print(\"Mobile is Receiving a call\")\n",
    "    def sendMessage(self):\n",
    "        print(\"Mobile is sending a call\")\n",
    "    def ReceiveMessage(self):\n",
    "        print(\"Mobile is receiving a call\")\n",
    "    \n",
    "    "
   ]
  },
  {
   "cell_type": "code",
   "execution_count": null,
   "metadata": {},
   "outputs": [],
   "source": [
    "#object1\n",
    "Mobile1 = mobile(\"Nokia\",\"red\",\"16GB\",\"2GB\",10000)"
   ]
  },
  {
   "cell_type": "code",
   "execution_count": null,
   "metadata": {},
   "outputs": [],
   "source": [
    "#object2\n",
    "Mobile2 = mobile(\"samsung\",\"Blak\",\"16GB\",\"2GB\",12000)"
   ]
  },
  {
   "cell_type": "code",
   "execution_count": null,
   "metadata": {},
   "outputs": [],
   "source": [
    "Mobile1.Mobilememory"
   ]
  },
  {
   "cell_type": "code",
   "execution_count": null,
   "metadata": {},
   "outputs": [],
   "source": [
    "Mobile2.Mobileprice"
   ]
  },
  {
   "cell_type": "code",
   "execution_count": null,
   "metadata": {},
   "outputs": [],
   "source": [
    "#Now behaviours\n",
    "Mobile1.MakeCall()"
   ]
  },
  {
   "cell_type": "code",
   "execution_count": null,
   "metadata": {},
   "outputs": [],
   "source": [
    "Mobile1.ReceiveMessage()"
   ]
  },
  {
   "cell_type": "markdown",
   "metadata": {},
   "source": [
    "### code 2"
   ]
  },
  {
   "cell_type": "code",
   "execution_count": 47,
   "metadata": {},
   "outputs": [],
   "source": [
    "class Mobile ():\n",
    "    # attributions >>>> variables\n",
    "    def __init__ (self,brand,color,memory,ram,price=\"free\"):\n",
    "        self.Mobilebrand = brand\n",
    "        self.Mobilecolor = color\n",
    "        self.Mobilememory = memory\n",
    "        self.Mobileram = ram\n",
    "        self.Mobileprice = price\n",
    "    # Behaviours >>>>function\n",
    "    def MakeCall(self):\n",
    "        print(f\"{self.Mobilebrand} Mobile is making a call\")\n",
    "    def ReceiveCall(self):\n",
    "        print(\"Mobile is Receiving a call\")\n",
    "    def sendMessage(self):\n",
    "        print(\"Mobile is sending a call\")\n",
    "    def ReceiveMessage(self):\n",
    "        print(\"Mobile is receiving a call\")\n",
    "    "
   ]
  },
  {
   "cell_type": "code",
   "execution_count": 48,
   "metadata": {},
   "outputs": [],
   "source": [
    "#object1\n",
    "Mobile1 = Mobile(\"Nokia\",\"red\",\"16GB\",\"2GB\",10000)\n",
    "#object2\n",
    "Mobile2 = Mobile(\"samsung\",\"Blak\",\"16GB\",\"2GB\")   # only 4 aurgnment can exwcute because of default aurgument\n"
   ]
  },
  {
   "cell_type": "code",
   "execution_count": null,
   "metadata": {},
   "outputs": [],
   "source": [
    "Mobile1.MakeCall ()"
   ]
  },
  {
   "cell_type": "code",
   "execution_count": null,
   "metadata": {},
   "outputs": [],
   "source": [
    "Mobile2.MakeCall ()"
   ]
  },
  {
   "cell_type": "markdown",
   "metadata": {},
   "source": [
    "### code 3"
   ]
  },
  {
   "cell_type": "code",
   "execution_count": null,
   "metadata": {},
   "outputs": [],
   "source": [
    "class student ():\n",
    "    def __init__(self,name,gender,email,course):\n",
    "        self.name = name\n",
    "        self.gender = gender\n",
    "        self.email = email\n",
    "        self.course = course\n",
    "    def study (self):\n",
    "        print(f\"{student1.name} is studing.\")\n",
    "    def exam (self):\n",
    "        print(f\"{student1.name} is appearing on exam.\")\n",
    "    def assignment (self):\n",
    "        print(f\"{student1.name} is preparing assignment.\")\n",
    "    "
   ]
  },
  {
   "cell_type": "code",
   "execution_count": null,
   "metadata": {},
   "outputs": [],
   "source": [
    "student1 = student(\"Maheen\",\"F\",\"s.maheen@2002gmail.com\",\"AI\")\n",
    "student2 = student(\"Nasir\",\"M\",\"aghanhussain@gmail.com\",\"AI\")"
   ]
  },
  {
   "cell_type": "markdown",
   "metadata": {},
   "source": [
    "student1.name"
   ]
  },
  {
   "cell_type": "code",
   "execution_count": null,
   "metadata": {},
   "outputs": [],
   "source": [
    "student2.email"
   ]
  },
  {
   "cell_type": "code",
   "execution_count": null,
   "metadata": {},
   "outputs": [],
   "source": [
    "student1.study()"
   ]
  },
  {
   "cell_type": "code",
   "execution_count": null,
   "metadata": {},
   "outputs": [],
   "source": [
    "student2.exam()"
   ]
  },
  {
   "cell_type": "markdown",
   "metadata": {},
   "source": [
    "### code 4"
   ]
  },
  {
   "cell_type": "code",
   "execution_count": 6,
   "metadata": {},
   "outputs": [],
   "source": [
    "class student ():\n",
    "    def __init__(self,name,gender,email,course):\n",
    "        self.name = name\n",
    "        self.gender = gender\n",
    "        self.email = email\n",
    "        self.course = course\n",
    "        self.GPA =0\n",
    "    def study (self):\n",
    "        print(f\"{student1} is studing.\")\n",
    "    def exam (self):\n",
    "        print(f\"{student1} is appearing on exam.\")\n",
    "    def assignment (self):\n",
    "        print(f\"{student1} is preparing assignment.\")"
   ]
  },
  {
   "cell_type": "code",
   "execution_count": 7,
   "metadata": {},
   "outputs": [],
   "source": [
    "student1 = student(\"Maheen\",\"F\",\"s.maheen@2002gmail.com\",\"AI\")\n",
    "student2 = student(\"Nasir\",\"M\",\"aghanhussain@gmail.com\",\"AI\")"
   ]
  },
  {
   "cell_type": "code",
   "execution_count": 8,
   "metadata": {},
   "outputs": [],
   "source": [
    "student1.GPA = 3.2"
   ]
  },
  {
   "cell_type": "code",
   "execution_count": 9,
   "metadata": {},
   "outputs": [
    {
     "data": {
      "text/plain": [
       "3.2"
      ]
     },
     "execution_count": 9,
     "metadata": {},
     "output_type": "execute_result"
    }
   ],
   "source": [
    "student1.GPA"
   ]
  },
  {
   "cell_type": "markdown",
   "metadata": {},
   "source": [
    "# Updating a value of GPA via function"
   ]
  },
  {
   "cell_type": "code",
   "execution_count": 39,
   "metadata": {},
   "outputs": [],
   "source": [
    "class student():\n",
    "    def __init__(self,name,gender,email,course):\n",
    "        self.name = name\n",
    "        self.gender = gender\n",
    "        self.email = email\n",
    "        self.course = course\n",
    "    def getGPA (self):\n",
    "            print(f\"the GPA ofb {self.GPA}\")\n",
    "    def setGPA (self,newGPA):\n",
    "            self.GPA = newGPA\n",
    "            print(self.GPA)\n",
    "    def study (self):\n",
    "        print(f\"{student1} is studing.\")\n",
    "    def exam (self):\n",
    "        print(f\"{student1} is appearing on exam.\")\n",
    "    def assignment (self):\n",
    "        print(f\"{student1} is preparing assignment.\")"
   ]
  },
  {
   "cell_type": "code",
   "execution_count": 40,
   "metadata": {},
   "outputs": [],
   "source": [
    "student1 = student(\"Maheen\",\"F\",\"s.maheen@2002gmail.com\",\"AI\")\n",
    "student2 = student(\"Nasir\",\"M\",\"aghanhussain@gmail.com\",\"AI\")"
   ]
  },
  {
   "cell_type": "code",
   "execution_count": 41,
   "metadata": {},
   "outputs": [
    {
     "data": {
      "text/plain": [
       "'s.maheen@2002gmail.com'"
      ]
     },
     "execution_count": 41,
     "metadata": {},
     "output_type": "execute_result"
    }
   ],
   "source": [
    "student1.email"
   ]
  },
  {
   "cell_type": "code",
   "execution_count": 42,
   "metadata": {},
   "outputs": [
    {
     "name": "stdout",
     "output_type": "stream",
     "text": [
      "the GPA ofb Maheen\n"
     ]
    }
   ],
   "source": [
    "student1.getGPA()"
   ]
  },
  {
   "cell_type": "code",
   "execution_count": 43,
   "metadata": {},
   "outputs": [
    {
     "name": "stdout",
     "output_type": "stream",
     "text": [
      "3.6\n"
     ]
    }
   ],
   "source": [
    "student2.setGPA(3.6)"
   ]
  },
  {
   "cell_type": "markdown",
   "metadata": {},
   "source": [
    "# Inheritance"
   ]
  },
  {
   "cell_type": "markdown",
   "metadata": {},
   "source": [
    "inhertances is possible when \"is a\" relation exists. use re-use krske, class kafi lengthy agr hojati he is liye hum alag alag class bna k use main class me object k tor pr le ate hain."
   ]
  },
  {
   "cell_type": "markdown",
   "metadata": {},
   "source": [
    "# code1"
   ]
  },
  {
   "cell_type": "code",
   "execution_count": 5,
   "metadata": {},
   "outputs": [],
   "source": [
    "class smartMobile(Mobile):\n",
    "    pass\n",
    "    "
   ]
  },
  {
   "cell_type": "code",
   "execution_count": 6,
   "metadata": {},
   "outputs": [],
   "source": [
    "sml =smartMobile(\"samsung\",\"Blak\",\"16GB\",\"2GB\",12000)"
   ]
  },
  {
   "cell_type": "code",
   "execution_count": 8,
   "metadata": {},
   "outputs": [
    {
     "name": "stdout",
     "output_type": "stream",
     "text": [
      "samsung Mobile is making a call\n"
     ]
    }
   ],
   "source": [
    "sml.MakeCall()"
   ]
  },
  {
   "cell_type": "markdown",
   "metadata": {},
   "source": [
    "# code 2"
   ]
  },
  {
   "cell_type": "code",
   "execution_count": 63,
   "metadata": {},
   "outputs": [],
   "source": [
    "class smartMobile(Mobile):\n",
    "    def __init__(self,brand,color,memory,ram,price):\n",
    "        super().__init__(brand,color,memory,ram,price)\n",
    "        self.battery = \"10amp\"\n",
    "        \n",
    "    def camera(self):\n",
    "        print(\"smart camera is not on\")\n",
    "    def presskeypad(self):\n",
    "        print(\"There is no keypad in smartphone\")"
   ]
  },
  {
   "cell_type": "code",
   "execution_count": 64,
   "metadata": {},
   "outputs": [],
   "source": [
    "sm1=smartMobile(\"sansung\",\"black\",\"18000\",\"16gb\",\"3gb\")"
   ]
  },
  {
   "cell_type": "code",
   "execution_count": 67,
   "metadata": {},
   "outputs": [],
   "source": [
    "class Car():\n",
    "    def __init__(self,make,model,year,battery):\n",
    "        self.make=make\n",
    "        self.model=model\n",
    "        self.year=year\n",
    "        self.battery=Battery(20000,20)\n",
    "    def descCar(self):\n",
    "        print(f\"Description:{self.make} & {self.model} & {self.year}\")\n",
    "    def getBattery(self):\n",
    "         print(f\"The battery size is {self.battery}\")\n",
    "    def setBattery(self,newsize):\n",
    "        self.battery=newsize\n"
   ]
  },
  {
   "cell_type": "code",
   "execution_count": 70,
   "metadata": {},
   "outputs": [
    {
     "name": "stdout",
     "output_type": "stream",
     "text": [
      "Description:Civic & MyCar & 2019\n"
     ]
    },
    {
     "data": {
      "text/plain": [
       "<__main__.Battery at 0x450eef0>"
      ]
     },
     "execution_count": 70,
     "metadata": {},
     "output_type": "execute_result"
    }
   ],
   "source": [
    "class ElectricCar(Car):\n",
    "    pass\n",
    "eCar1=ElectricCar(\"Civic\",\"MyCar\",2019,2000)\n",
    "eCar1.year\n",
    "eCar1.descCar()\n",
    "eCar1.battery\n"
   ]
  },
  {
   "cell_type": "code",
   "execution_count": 71,
   "metadata": {},
   "outputs": [],
   "source": [
    "class Battery():\n",
    "    def __init__(self,price,size):\n",
    "        self.price=price\n",
    "        self.size=size\n",
    "    def descCar(self):\n",
    "        print(f\"Description:{self.price} & {self.size}\")\n",
    "    def getBattery(self):\n",
    "        print(f\"The battery size is {self.size}\")\n"
   ]
  },
  {
   "cell_type": "code",
   "execution_count": 72,
   "metadata": {},
   "outputs": [
    {
     "name": "stdout",
     "output_type": "stream",
     "text": [
      "The battery size is 20\n"
     ]
    }
   ],
   "source": [
    "eCar1.battery.getBattery()"
   ]
  },
  {
   "cell_type": "code",
   "execution_count": null,
   "metadata": {},
   "outputs": [],
   "source": []
  },
  {
   "cell_type": "code",
   "execution_count": null,
   "metadata": {},
   "outputs": [],
   "source": []
  },
  {
   "cell_type": "markdown",
   "metadata": {},
   "source": [
    "# Data Files Read Write"
   ]
  },
  {
   "cell_type": "code",
   "execution_count": 19,
   "metadata": {},
   "outputs": [],
   "source": [
    "with open(\"data file write.txt\",\"w\") as f:   # f = handler       open(\"abc.txt\",\"w\") is object pass to f\n",
    "    f.write(\"this is to check whether it will write or not\")"
   ]
  },
  {
   "cell_type": "code",
   "execution_count": 20,
   "metadata": {},
   "outputs": [],
   "source": [
    "with open(\"abc.txt\",\"w\") as f:       # abc does not exsist\n",
    "    f.write(\"this is to check whether it will creat new file or not\")"
   ]
  },
  {
   "cell_type": "code",
   "execution_count": 22,
   "metadata": {},
   "outputs": [
    {
     "name": "stdout",
     "output_type": "stream",
     "text": [
      "this is to check whether it will creat new file or not\n"
     ]
    }
   ],
   "source": [
    "with open (\"abc.txt\",\"r\") as file:\n",
    "    content = file.read()\n",
    "print(content)"
   ]
  },
  {
   "cell_type": "code",
   "execution_count": 23,
   "metadata": {},
   "outputs": [],
   "source": [
    "with open(\"abc.txt\",\"a\") as f:       \n",
    "    .f.write(\"this is to check whether it will append or not\")"
   ]
  },
  {
   "cell_type": "code",
   "execution_count": 1,
   "metadata": {},
   "outputs": [
    {
     "name": "stdout",
     "output_type": "stream",
     "text": [
      "\n"
     ]
    }
   ],
   "source": [
    "with open(\"abcd.txt\",\"w+\") as f:      # abcd does not exist\n",
    "    f.write(\"this is w+ mode\")\n",
    "    content = f.read()\n",
    "    print(content)    # here in this all the statement is written in abcd but does right\n",
    "                    # here because during writting curser will be at the end of statement so for this we have to set \n",
    "                     # curser at zero"
   ]
  },
  {
   "cell_type": "code",
   "execution_count": 26,
   "metadata": {},
   "outputs": [
    {
     "name": "stdout",
     "output_type": "stream",
     "text": [
      "this is w+ mode\n"
     ]
    }
   ],
   "source": [
    "with open(\"abcd.txt\",\"w+\") as f:      # abcd does not exist\n",
    "    f.write(\"this is w+ mode\")\n",
    "    f.seek(0)\n",
    "    content = f.read()\n",
    "    print(content) "
   ]
  },
  {
   "cell_type": "markdown",
   "metadata": {},
   "source": [
    "# List comperhension"
   ]
  },
  {
   "cell_type": "code",
   "execution_count": null,
   "metadata": {},
   "outputs": [],
   "source": [
    "list [1,2,3,4,5]\n",
    "square[]\n",
    "for num in a"
   ]
  }
 ],
 "metadata": {
  "kernelspec": {
   "display_name": "Python 3",
   "language": "python",
   "name": "python3"
  },
  "language_info": {
   "codemirror_mode": {
    "name": "ipython",
    "version": 3
   },
   "file_extension": ".py",
   "mimetype": "text/x-python",
   "name": "python",
   "nbconvert_exporter": "python",
   "pygments_lexer": "ipython3",
   "version": "3.7.3"
  }
 },
 "nbformat": 4,
 "nbformat_minor": 2
}
