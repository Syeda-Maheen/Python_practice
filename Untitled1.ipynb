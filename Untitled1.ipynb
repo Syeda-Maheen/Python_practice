{
 "cells": [
  {
   "cell_type": "code",
   "execution_count": 4,
   "metadata": {},
   "outputs": [
    {
     "name": "stdout",
     "output_type": "stream",
     "text": [
      "The three dishes that I like the most are, Biryani, Malai Boti, Pizza\n",
      "The three dishes that I like the most are,['Biryani', 'Malai Boti', 'Pizza']\n",
      "The three of my faviourate dishes are,Malai Boti, Pizza, Chocolate ice cake\n",
      "The three of my faviourate dishes are,['Malai Boti', 'Pizza', 'Chocolate ice cake']\n",
      "The three of my faviourate dishes are,Pizza, Chocolate ice cake, Custurd\n",
      "The three of my faviourate dishes are,['Pizza', 'Chocolate ice cake', 'Custurd']\n"
     ]
    }
   ],
   "source": [
    "Faviourte_dishes = [\"Biryani\",\"Malai Boti\",\"Pizza\",\"Chocolate ice cake\",\"Custurd\"]\n",
    "print(f\"The three dishes that I like the most are, {Faviourte_dishes[0]}, {Faviourte_dishes[1]}, {Faviourte_dishes[2]}\")\n",
    "print(f\"The three dishes that I like the most are,{Faviourte_dishes [0:3]}\")\n",
    "print(f\"The three of my faviourate dishes are,{Faviourte_dishes[1]}, {Faviourte_dishes[2]}, {Faviourte_dishes[3]}\")\n",
    "print(f\"The three of my faviourate dishes are,{Faviourte_dishes [1:4]}\")   \n",
    "print(f\"The three of my faviourate dishes are,{Faviourte_dishes[2]}, {Faviourte_dishes[3]}, {Faviourte_dishes[4]}\")\n",
    "print(f\"The three of my faviourate dishes are,{Faviourte_dishes [2:]}\")   "
   ]
  },
  {
   "cell_type": "code",
   "execution_count": 14,
   "metadata": {},
   "outputs": [
    {
     "name": "stdout",
     "output_type": "stream",
     "text": [
      "please enter a colour: greEn\n",
      "The player just earned 10 points for shooting the alien: \n"
     ]
    }
   ],
   "source": [
    "Alien_color = input(\"please enter a colour: \")\n",
    "Alien_color = Alien_color.upper()\n",
    "if Alien_color == \"RED\" :\n",
    "   print(\"The player just earned 5 points for shooting the alien: \")\n",
    "elif Alien_color == \"GREEN\":\n",
    "   print(\"The player just earned 10 points for shooting the alien: \")\n",
    "else:\n",
    "    print(\"Alien is no more.\")"
   ]
  },
  {
   "cell_type": "code",
   "execution_count": 18,
   "metadata": {},
   "outputs": [
    {
     "name": "stdout",
     "output_type": "stream",
     "text": [
      "Please enter age0\n",
      "The person is a baby.\n"
     ]
    }
   ],
   "source": [
    "Age = int(input(\"Please enter age\"))\n",
    "if Age < 2 :\n",
    "    print(\"The person is a baby.\")\n",
    "elif  (Age >= 2 and Age <4) :\n",
    "    print(\"The person is a toddler.\")  \n",
    "elif  (Age >= 4 and Age < 13) :\n",
    "    print(\"The person is a kid.\") \n",
    "elif  (Age >= 13 and Age < 20) :\n",
    "    print(\"The person is a teenager.\")\n",
    "elif  (Age >= 20 and Age < 65) :\n",
    "    print(\"The person is an adult.\")\n",
    "else:\n",
    "    print(\"The person is an elder.\") "
   ]
  },
  {
   "cell_type": "code",
   "execution_count": 10,
   "metadata": {},
   "outputs": [
    {
     "name": "stdout",
     "output_type": "stream",
     "text": [
      "The cubes of the numbers frem 1 to 10 are: [1]\n",
      "The cubes of the numbers frem 1 to 10 are: [4]\n",
      "The cubes of the numbers frem 1 to 10 are: [9]\n",
      "The cubes of the numbers frem 1 to 10 are: [16]\n",
      "The cubes of the numbers frem 1 to 10 are: [25]\n",
      "The cubes of the numbers frem 1 to 10 are: [36]\n",
      "The cubes of the numbers frem 1 to 10 are: [49]\n",
      "The cubes of the numbers frem 1 to 10 are: [56]\n",
      "The cubes of the numbers frem 1 to 10 are: [81]\n",
      "The cubes of the numbers frem 1 to 10 are: [100]\n"
     ]
    }
   ],
   "source": [
    "Cube_List = [1,4,9,16,25,36,49,56,81,100]\n",
    "for Cube_of_Numbers in Cube_List:\n",
    "    cubes = []\n",
    "    cubes.append (Cube_of_Numbers)\n",
    "    print(f\"The cubes of the numbers frem 1 to 10 are: {cubes}\")"
   ]
  },
  {
   "cell_type": "code",
   "execution_count": 30,
   "metadata": {},
   "outputs": [
    {
     "name": "stdout",
     "output_type": "stream",
     "text": [
      "The cubes of the number 1 is: [1]\n",
      "The cubes of the number 2 is: [4]\n",
      "The cubes of the number 3 is: [9]\n",
      "The cubes of the number 4 is: [16]\n",
      "The cubes of the number 5 is: [25]\n",
      "The cubes of the number 6 is: [36]\n",
      "The cubes of the number 7 is: [49]\n",
      "The cubes of the number 8 is: [56]\n",
      "The cubes of the number 9 is: [81]\n",
      "The cubes of the number 10 is: [100]\n"
     ]
    }
   ],
   "source": [
    "Cube_List = [1,4,9,16,25,36,49,56,81,100]\n",
    "for Cube_of_Numbers in Cube_List:\n",
    "    cube = []\n",
    "    cube.append(Cube_of_Numbers)\n",
    "    Cube_of_which_number_minus_1 = Cube_List.index(Cube_of_Numbers)\n",
    "    Cube_of_which_number = 1+Cube_of_which_number_minus_1\n",
    "    print(f\"The cubes of the number \"+ str(Cube_of_which_number) + f\" is: {cube}\")\n",
    "    "
   ]
  },
  {
   "cell_type": "code",
   "execution_count": 31,
   "metadata": {},
   "outputs": [
    {
     "name": "stdout",
     "output_type": "stream",
     "text": [
      "9\n",
      "12\n",
      "15\n",
      "18\n",
      "21\n",
      "24\n",
      "27\n",
      "30\n",
      "33\n",
      "36\n",
      "39\n",
      "42\n",
      "45\n",
      "48\n",
      "51\n",
      "54\n",
      "57\n",
      "60\n",
      "63\n",
      "66\n",
      "69\n",
      "72\n",
      "75\n",
      "78\n",
      "81\n",
      "84\n",
      "87\n",
      "90\n"
     ]
    }
   ],
   "source": [
    "Multiple_of_3 = [9,12,15,18,21,24,27,30,33,36,39,42,45,48,51,54,57,60,63,66,69,72,75,78,81,84,87,90]\n",
    "for x in Multiple_of_3:\n",
    "    print(x)"
   ]
  },
  {
   "cell_type": "code",
   "execution_count": null,
   "metadata": {},
   "outputs": [],
   "source": [
    "range()"
   ]
  }
 ],
 "metadata": {
  "kernelspec": {
   "display_name": "Python 3",
   "language": "python",
   "name": "python3"
  },
  "language_info": {
   "codemirror_mode": {
    "name": "ipython",
    "version": 3
   },
   "file_extension": ".py",
   "mimetype": "text/x-python",
   "name": "python",
   "nbconvert_exporter": "python",
   "pygments_lexer": "ipython3",
   "version": "3.7.3"
  }
 },
 "nbformat": 4,
 "nbformat_minor": 2
}
