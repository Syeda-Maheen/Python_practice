{
 "cells": [
  {
   "cell_type": "markdown",
   "metadata": {},
   "source": [
    "# For loop"
   ]
  },
  {
   "cell_type": "markdown",
   "metadata": {},
   "source": [
    "Task: print your name 5 times"
   ]
  },
  {
   "cell_type": "code",
   "execution_count": 3,
   "metadata": {},
   "outputs": [
    {
     "name": "stdout",
     "output_type": "stream",
     "text": [
      "Syeda Maheen\n",
      "Syeda Maheen\n",
      "Syeda Maheen\n",
      "Syeda Maheen\n",
      "Syeda Maheen\n"
     ]
    }
   ],
   "source": [
    "print (\"Syeda Maheen\")\n",
    "print (\"Syeda Maheen\")\n",
    "print (\"Syeda Maheen\")\n",
    "print (\"Syeda Maheen\")\n",
    "print (\"Syeda Maheen\")"
   ]
  },
  {
   "cell_type": "markdown",
   "metadata": {},
   "source": [
    "using for loop beacames very easy"
   ]
  },
  {
   "cell_type": "code",
   "execution_count": 6,
   "metadata": {},
   "outputs": [
    {
     "name": "stdout",
     "output_type": "stream",
     "text": [
      "1 Syeda Maheen\n",
      "2 Syeda Maheen\n",
      "3 Syeda Maheen\n",
      "4 Syeda Maheen\n",
      "5 Syeda Maheen\n"
     ]
    }
   ],
   "source": [
    "for a in range(5):       # range(end value-1)       loop starts with zero\n",
    "    print(f\"{a+1} Syeda Maheen\")"
   ]
  },
  {
   "cell_type": "code",
   "execution_count": 9,
   "metadata": {},
   "outputs": [
    {
     "name": "stdout",
     "output_type": "stream",
     "text": [
      "2 Syeda Maheen\n",
      "3 Syeda Maheen\n",
      "4 Syeda Maheen\n",
      "5 Syeda Maheen\n"
     ]
    }
   ],
   "source": [
    "for a in range (1,5):       # range(start value : end value-1)\n",
    "    print(f\"{a} Syeda Maheen\")"
   ]
  },
  {
   "cell_type": "code",
   "execution_count": 10,
   "metadata": {},
   "outputs": [
    {
     "name": "stdout",
     "output_type": "stream",
     "text": [
      "1 Syeda Maheen\n",
      "3 Syeda Maheen\n"
     ]
    }
   ],
   "source": [
    "for a in range (1,5,2):       # range(start value : end value-1 : steps)\n",
    "    print(f\"{a} Syeda Maheen\")"
   ]
  },
  {
   "cell_type": "code",
   "execution_count": 11,
   "metadata": {},
   "outputs": [
    {
     "name": "stdout",
     "output_type": "stream",
     "text": [
      "5 Syeda Maheen\n",
      "3 Syeda Maheen\n"
     ]
    }
   ],
   "source": [
    "for a in range (5,1,-2):       # reverse\n",
    "    print(f\"{a} Syeda Maheen\")"
   ]
  },
  {
   "cell_type": "markdown",
   "metadata": {},
   "source": [
    "squareing the value of list"
   ]
  },
  {
   "cell_type": "code",
   "execution_count": 26,
   "metadata": {},
   "outputs": [
    {
     "name": "stdout",
     "output_type": "stream",
     "text": [
      "The square list of [0, 1, 2, 3, 4, 5] is [0, 2, 4, 6, 8, 10]\n"
     ]
    }
   ],
   "source": [
    "num = [0,1,2,3,4,5]\n",
    "square_num = []\n",
    "for a in num:                 #  when a=0, num[0]=0,  a = 0\n",
    "    square_num.append(a*2)\n",
    "print(f\"The square list of {num} is {square_num}\")"
   ]
  },
  {
   "cell_type": "markdown",
   "metadata": {},
   "source": [
    "Keywords in loop:  \n",
    "break, \n",
    "continue, \n",
    "pass."
   ]
  },
  {
   "cell_type": "code",
   "execution_count": 19,
   "metadata": {},
   "outputs": [
    {
     "name": "stdout",
     "output_type": "stream",
     "text": [
      "0. when i != 3\n",
      "1. when i != 3\n",
      "2. when i != 3\n"
     ]
    }
   ],
   "source": [
    "for a in range(9):\n",
    "    if a == 3:\n",
    "        break\n",
    "        print(f\"{a}. when i == 3\")       #  when i == 3 curser will out of loop\n",
    "    print(f\"{a}. when i != 3\")"
   ]
  },
  {
   "cell_type": "code",
   "execution_count": 20,
   "metadata": {},
   "outputs": [
    {
     "name": "stdout",
     "output_type": "stream",
     "text": [
      "0. when i != 3\n",
      "1. when i != 3\n",
      "2. when i != 3\n",
      "4. when i != 3\n",
      "5. when i != 3\n",
      "6. when i != 3\n",
      "7. when i != 3\n",
      "8. when i != 3\n"
     ]
    }
   ],
   "source": [
    "for a in range(9):\n",
    "    if a == 3:\n",
    "        continue\n",
    "        print(f\"{a}. when i == 3\")       #  when i == 3 curser will continue i will be 4 of loop\n",
    "    print(f\"{a}. when i != 3\")"
   ]
  },
  {
   "cell_type": "code",
   "execution_count": 21,
   "metadata": {},
   "outputs": [],
   "source": [
    "for a in range(9):\n",
    "    pass\n",
    "        "
   ]
  },
  {
   "cell_type": "markdown",
   "metadata": {},
   "source": [
    "Making table of user desired"
   ]
  },
  {
   "cell_type": "code",
   "execution_count": 28,
   "metadata": {},
   "outputs": [
    {
     "name": "stdout",
     "output_type": "stream",
     "text": [
      "print the number157\n",
      "157  x  1  =  157 \n",
      "157  x  2  =  314 \n",
      "157  x  3  =  471 \n",
      "157  x  4  =  628 \n",
      "157  x  5  =  785 \n",
      "157  x  6  =  942 \n",
      "157  x  7  =  1099 \n",
      "157  x  8  =  1256 \n",
      "157  x  9  =  1413 \n",
      "157  x  10  =  1570 \n"
     ]
    }
   ],
   "source": [
    "num = int(input(\"print the number\"))\n",
    "for i in range(1,11):\n",
    "    print(f\"{num}  x  {i}  =  {num*i} \")"
   ]
  },
  {
   "cell_type": "code",
   "execution_count": null,
   "metadata": {},
   "outputs": [],
   "source": []
  }
 ],
 "metadata": {
  "kernelspec": {
   "display_name": "Python 3",
   "language": "python",
   "name": "python3"
  },
  "language_info": {
   "codemirror_mode": {
    "name": "ipython",
    "version": 3
   },
   "file_extension": ".py",
   "mimetype": "text/x-python",
   "name": "python",
   "nbconvert_exporter": "python",
   "pygments_lexer": "ipython3",
   "version": "3.7.3"
  }
 },
 "nbformat": 4,
 "nbformat_minor": 2
}
