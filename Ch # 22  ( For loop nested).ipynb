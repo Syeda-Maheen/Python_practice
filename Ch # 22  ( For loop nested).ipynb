{
 "cells": [
  {
   "cell_type": "code",
   "execution_count": 2,
   "metadata": {},
   "outputs": [
    {
     "name": "stdout",
     "output_type": "stream",
     "text": [
      "p\n",
      "a\n",
      "k\n",
      "i\n",
      "s\n",
      "t\n",
      "a\n",
      "n\n"
     ]
    }
   ],
   "source": [
    "for a in \"pakistan\":\n",
    "    print(a)"
   ]
  },
  {
   "cell_type": "code",
   "execution_count": 4,
   "metadata": {},
   "outputs": [
    {
     "name": "stdout",
     "output_type": "stream",
     "text": [
      "p 0\n",
      "p 1\n",
      "a 0\n",
      "a 1\n",
      "k 0\n",
      "k 1\n",
      "i 0\n",
      "i 1\n",
      "s 0\n",
      "s 1\n",
      "t 0\n",
      "t 1\n",
      "a 0\n",
      "a 1\n",
      "n 0\n",
      "n 1\n"
     ]
    }
   ],
   "source": [
    "for a in \"pakistan\":\n",
    "    for b in range(2):\n",
    "        print(a,b)"
   ]
  },
  {
   "cell_type": "code",
   "execution_count": 1,
   "metadata": {},
   "outputs": [],
   "source": [
    "list1 = []\n",
    "list2 = []\n",
    "list3= []\n",
    "list4 = []\n",
    "list5 = []\n",
    "k=0\n",
    "l=1\n"
   ]
  },
  {
   "cell_type": "code",
   "execution_count": 2,
   "metadata": {},
   "outputs": [
    {
     "name": "stdout",
     "output_type": "stream",
     "text": [
      "Enter the number of letter which you want to enter: 2\n",
      "Enter the number of alphabates which you want to enter: 8\n",
      "input 1 alphabate of 1 letter: p\n",
      "input 2 alphabate of 1 letter: a\n",
      "input 3 alphabate of 1 letter: k\n",
      "input 4 alphabate of 1 letter: i\n",
      "input 5 alphabate of 1 letter: s\n",
      "input 6 alphabate of 1 letter: t\n",
      "input 7 alphabate of 1 letter: a\n",
      "input 8 alphabate of 1 letter: n\n",
      "input 1 alphabate of 2 letter: z\n",
      "input 2 alphabate of 2 letter: i\n",
      "input 3 alphabate of 2 letter: n\n",
      "input 4 alphabate of 2 letter: a\n",
      "input 5 alphabate of 2 letter: d\n",
      "input 6 alphabate of 2 letter: a\n",
      "input 7 alphabate of 2 letter: b\n",
      "input 8 alphabate of 2 letter: d\n",
      "p z\n",
      "a i\n",
      "k n\n",
      "i a\n",
      "s d\n",
      "t a\n",
      "a b\n",
      "n d\n"
     ]
    }
   ],
   "source": [
    "Number_of_letters = int(input(\"Enter the number of letter which you want to enter: \"))\n",
    "if Number_of_letters < 5:\n",
    "    \n",
    "    Number_of_alpha = int(input(\"Enter the number of alphabates which you want to enter: \"))\n",
    "\n",
    "for a in range(1,Number_of_letters+1):\n",
    "    for b in range(1,Number_of_alpha+1):\n",
    "        letter = input(f\"input {b} alphabate of {a} letter: \")\n",
    "        if a == 1:\n",
    "            list1.append(letter)\n",
    "        if a == 2:\n",
    "            list2.append(letter)\n",
    "        if a == 3:\n",
    "            list3.append(letter)\n",
    "        if a == 4:\n",
    "            list4.append(letter)\n",
    "        if a == 5:\n",
    "            list5.append(letter)\n",
    "            \n",
    "            \n",
    "            \n",
    "            \n",
    "            \n",
    "for i in list1:\n",
    "    for j in list2[k]:\n",
    "        k == l\n",
    "        print(i,j)\n",
    "        k+=1\n",
    "    l+=1\n",
    "        \n",
    "        \n",
    "\n",
    "        "
   ]
  },
  {
   "cell_type": "code",
   "execution_count": null,
   "metadata": {},
   "outputs": [],
   "source": []
  },
  {
   "cell_type": "code",
   "execution_count": 6,
   "metadata": {},
   "outputs": [
    {
     "data": {
      "text/plain": [
       "['yusra hassan',\n",
       " 'yusra hashim',\n",
       " 'yusra baqa',\n",
       " 'yusra tanveer',\n",
       " 'yusra vayani',\n",
       " 'rabia hassan',\n",
       " 'rabia hashim',\n",
       " 'rabia baqa',\n",
       " 'rabia tanveer',\n",
       " 'rabia vayani',\n",
       " 'naureen hassan',\n",
       " 'naureen hashim',\n",
       " 'naureen baqa',\n",
       " 'naureen tanveer',\n",
       " 'naureen vayani',\n",
       " 'muniba hassan',\n",
       " 'muniba hashim',\n",
       " 'muniba baqa',\n",
       " 'muniba tanveer',\n",
       " 'muniba vayani',\n",
       " 'hadiya hassan',\n",
       " 'hadiya hashim',\n",
       " 'hadiya baqa',\n",
       " 'hadiya tanveer',\n",
       " 'hadiya vayani']"
      ]
     },
     "execution_count": 6,
     "metadata": {},
     "output_type": "execute_result"
    }
   ],
   "source": [
    "f_name =[\"yusra\",\"rabia\",\"naureen\",\"muniba\",\"hadiya\"]\n",
    "l_name =[\"hassan\",\"hashim\",\"baqa\",\"tanveer\",\"vayani\"]\n",
    "full_name = []\n",
    "for f in f_name:\n",
    "    for l in l_name:\n",
    "        full_name.append(f+ \" \" +l)\n",
    "full_name"
   ]
  },
  {
   "cell_type": "markdown",
   "metadata": {},
   "source": [
    "Program by user input and mix and match the names"
   ]
  },
  {
   "cell_type": "code",
   "execution_count": 2,
   "metadata": {},
   "outputs": [],
   "source": [
    "i = 1\n",
    "p = 1\n",
    "fnames = []\n",
    "lnames = []"
   ]
  },
  {
   "cell_type": "code",
   "execution_count": 3,
   "metadata": {},
   "outputs": [
    {
     "name": "stdout",
     "output_type": "stream",
     "text": [
      "Enter the number of first and last name which you want to enter and mix and match to find name: 2\n",
      "Please input number 1 first name: syeda\n",
      "please input number 1 last name: farheen\n",
      "Please input number 2 first name: zia\n",
      "please input number 2 last name: uddin\n",
      "1. syeda farheen\n",
      "1. syeda uddin\n",
      "1. zia farheen\n",
      "1. zia uddin\n"
     ]
    }
   ],
   "source": [
    "Number_of_names = int(input(\"Enter the number of first and last name which you want to enter and mix and match to find name: \"))\n",
    "for a in range(1,Number_of_names+1):\n",
    "    fname = input(f\"Please input number {p} first name: \")\n",
    "    lname = input(f\"please input number {p} last name: \" )\n",
    "    fnames.append(fname)\n",
    "    lnames.append(lname)\n",
    "    p+=1\n",
    "for a in fnames:\n",
    "    for b in lnames:\n",
    "        print(f\"{i}. {a} {b}\")\n",
    "        i+1"
   ]
  },
  {
   "cell_type": "markdown",
   "metadata": {},
   "source": []
  }
 ],
 "metadata": {
  "kernelspec": {
   "display_name": "Python 3",
   "language": "python",
   "name": "python3"
  },
  "language_info": {
   "codemirror_mode": {
    "name": "ipython",
    "version": 3
   },
   "file_extension": ".py",
   "mimetype": "text/x-python",
   "name": "python",
   "nbconvert_exporter": "python",
   "pygments_lexer": "ipython3",
   "version": "3.7.3"
  }
 },
 "nbformat": 4,
 "nbformat_minor": 2
}
